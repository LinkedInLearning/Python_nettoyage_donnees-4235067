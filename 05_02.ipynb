{
 "cells": [
  {
   "cell_type": "code",
   "execution_count": 1,
   "id": "f5f30fa6",
   "metadata": {},
   "outputs": [],
   "source": [
    "import pandas as pd\n",
    "import re\n",
    "\n",
    "def remplace_virgules_avec_points(df, colonne):\n",
    "\n",
    "    df[colonne] = df[colonne].astype(str).str.replace(',', '.').astype(float)\n",
    "    return df"
   ]
  },
  {
   "cell_type": "code",
   "execution_count": 2,
   "id": "14e63cab",
   "metadata": {},
   "outputs": [],
   "source": [
    "def nettoyage_texte(df, colonnes):\n",
    "\n",
    "    for colonne in colonnes:\n",
    "        df[colonne] = df[colonne].str.strip().str.title()\n",
    "    return df\n"
   ]
  },
  {
   "cell_type": "code",
   "execution_count": 3,
   "id": "809cc989",
   "metadata": {},
   "outputs": [],
   "source": [
    "def corr_texte(df, colonne, val_1, val_2):\n",
    "    df[colonne] = df[colonne].apply(lambda x: val_1 if x == val_2 else x)\n",
    "    return df"
   ]
  },
  {
   "cell_type": "code",
   "execution_count": 22,
   "id": "06f9a419",
   "metadata": {},
   "outputs": [],
   "source": [
    "from sklearn.pipeline import Pipeline, FunctionTransformer\n",
    "\n",
    "remplace_virgules_transformer = FunctionTransformer(remplace_virgules_avec_points, kw_args={'colonne': 'Note'})\n",
    "nettoyage_texte_transformer = FunctionTransformer(nettoyage_texte, kw_args={'colonnes': ['Prénom étudiant']})\n",
    "corr_texte_transformer = FunctionTransformer(corr_texte, kw_args={'colonne': 'Filière','val_1':'F1', 'val_2':'F'})\n",
    "\n",
    "pipeline = Pipeline(steps=[\n",
    "    ('remplace_virgules', remplace_virgules_transformer),\n",
    "    ('nettoyage_texte', nettoyage_texte_transformer),\n",
    "    ('corr_texte', corr_texte_transformer)\n",
    "])\n"
   ]
  },
  {
   "cell_type": "code",
   "execution_count": 23,
   "id": "a44f9089",
   "metadata": {},
   "outputs": [
    {
     "name": "stdout",
     "output_type": "stream",
     "text": [
      "DataFrame avec liste des étudiants:\n",
      "  Prénom étudiant Filière  Note\n",
      "0          ALice       F1  14.5\n",
      "1           AHMED      F2  15,1\n",
      "2       CHARLotte      F3  15.2\n",
      "3           DAVID       F  15.5\n",
      "4           Alice      F1  14,5\n",
      "5            Fang       F    13\n"
     ]
    }
   ],
   "source": [
    "df_notes = pd.read_csv('notes.csv')\n",
    "\n",
    "print(\"DataFrame avec liste des étudiants:\")\n",
    "print(df_notes)"
   ]
  },
  {
   "cell_type": "code",
   "execution_count": 24,
   "id": "a750e14a",
   "metadata": {},
   "outputs": [
    {
     "name": "stdout",
     "output_type": "stream",
     "text": [
      "  Prénom étudiant Filière  Note\n",
      "0           Alice      F1  14.5\n",
      "1           Ahmed      F2  15.1\n",
      "2       Charlotte      F3  15.2\n",
      "3           David      F1  15.5\n",
      "4           Alice      F1  14.5\n",
      "5            Fang      F1  13.0\n"
     ]
    }
   ],
   "source": [
    "df_net = pipeline.fit_transform(df_notes)\n",
    "print(df_net)"
   ]
  },
  {
   "cell_type": "code",
   "execution_count": null,
   "id": "763c5978",
   "metadata": {},
   "outputs": [],
   "source": []
  }
 ],
 "metadata": {
  "kernelspec": {
   "display_name": "Python 3 (ipykernel)",
   "language": "python",
   "name": "python3"
  },
  "language_info": {
   "codemirror_mode": {
    "name": "ipython",
    "version": 3
   },
   "file_extension": ".py",
   "mimetype": "text/x-python",
   "name": "python",
   "nbconvert_exporter": "python",
   "pygments_lexer": "ipython3",
   "version": "3.10.9"
  }
 },
 "nbformat": 4,
 "nbformat_minor": 5
}
