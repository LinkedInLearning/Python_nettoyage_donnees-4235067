{
 "cells": [
  {
   "cell_type": "code",
   "execution_count": 5,
   "id": "0508e5dc",
   "metadata": {},
   "outputs": [
    {
     "name": "stdout",
     "output_type": "stream",
     "text": [
      "DataFrame avec des erreurs et des valeurs aberrantes:\n",
      "         ID     Prénom  Age         Ville\n",
      "0  ID000001      Alice   24         Paris\n",
      "1  ID000002        Bob   23   Los Angeles\n",
      "2  ID000003    Charlie  120      New York\n",
      "3  ID000004      David   29         Dubai\n",
      "4  ID000005    Saoirse   28        Pariss\n",
      "5  ID000006  Fatimatou  300         Dakar\n",
      "6  ID000007       Fang   30       Beijing\n",
      "7  ID000008     Hassan   31         Cairo\n",
      "8  ID000009     Ingrid   25        Sydney\n",
      "9  ID000010   Blessing   26  Johannesburg\n"
     ]
    }
   ],
   "source": [
    "import pandas as pd\n",
    "\n",
    "df_erreurs = pd.read_csv('dataset_erreurs_aberrantes.csv')\n",
    "\n",
    "print(\"DataFrame avec des erreurs et des valeurs aberrantes:\")\n",
    "print(df_erreurs)"
   ]
  },
  {
   "cell_type": "code",
   "execution_count": 6,
   "id": "79259dc8",
   "metadata": {},
   "outputs": [
    {
     "name": "stdout",
     "output_type": "stream",
     "text": [
      "\n",
      "Valeurs aberrantes dans la colonne Age:\n",
      "         ID     Prénom  Age     Ville\n",
      "2  ID000003    Charlie  120  New York\n",
      "5  ID000006  Fatimatou  300     Dakar\n"
     ]
    }
   ],
   "source": [
    "Q1 = df_erreurs['Age'].quantile(0.25)\n",
    "Q3 = df_erreurs['Age'].quantile(0.75)\n",
    "IQR = Q3 - Q1\n",
    "borne_inf = Q1 - 1.5 * IQR\n",
    "borne_sup = Q3 + 1.5 * IQR\n",
    "\n",
    "val_age_ab = df_erreurs[(df_erreurs['Age'] < borne_inf) | (df_erreurs['Age'] > borne_sup)]\n",
    "print(\"\\nValeurs aberrantes dans la colonne Age:\")\n",
    "print(val_age_ab)"
   ]
  },
  {
   "cell_type": "code",
   "execution_count": 7,
   "id": "fdc26fd6",
   "metadata": {},
   "outputs": [
    {
     "name": "stdout",
     "output_type": "stream",
     "text": [
      "\n",
      "DataFrame après correction des valeurs aberrantes dans la colonne Age:\n",
      "         ID     Prénom   Age         Ville\n",
      "0  ID000001      Alice  24.0         Paris\n",
      "1  ID000002        Bob  23.0   Los Angeles\n",
      "2  ID000003    Charlie  28.5      New York\n",
      "3  ID000004      David  29.0         Dubai\n",
      "4  ID000005    Saoirse  28.0        Pariss\n",
      "5  ID000006  Fatimatou  28.5         Dakar\n",
      "6  ID000007       Fang  30.0       Beijing\n",
      "7  ID000008     Hassan  31.0         Cairo\n",
      "8  ID000009     Ingrid  25.0        Sydney\n",
      "9  ID000010   Blessing  26.0  Johannesburg\n"
     ]
    }
   ],
   "source": [
    "import numpy as np\n",
    "\n",
    "median_age = df_erreurs['Age'].median()\n",
    "df_erreurs['Age'] = np.where((df_erreurs['Age'] < borne_inf) | (df_erreurs['Age'] > borne_sup), median_age, df_erreurs['Age'])\n",
    "\n",
    "print(\"\\nDataFrame après correction des valeurs aberrantes dans la colonne Age:\")\n",
    "print(df_erreurs)"
   ]
  },
  {
   "cell_type": "code",
   "execution_count": 9,
   "id": "0ee3d68e",
   "metadata": {},
   "outputs": [
    {
     "name": "stdout",
     "output_type": "stream",
     "text": [
      "\n",
      "Erreurs typographiques dans la colonne Ville:\n",
      "         ID   Prénom   Age   Ville\n",
      "4  ID000005  Saoirse  28.0  Pariss\n"
     ]
    }
   ],
   "source": [
    "villes_correctes = ['Paris', 'Los Angeles', 'New York', 'Dubai', 'Berlin', 'Dakar', 'Beijing', 'Cairo', 'Sydney', 'Johannesburg']\n",
    "\n",
    "typos = df_erreurs[~df_erreurs['Ville'].isin(villes_correctes)]\n",
    "print(\"\\nErreurs typographiques dans la colonne Ville:\")\n",
    "print(typos)\n"
   ]
  },
  {
   "cell_type": "code",
   "execution_count": 11,
   "id": "1159961c",
   "metadata": {},
   "outputs": [
    {
     "name": "stdout",
     "output_type": "stream",
     "text": [
      "\n",
      "DataFrame après correction des erreurs typographiques dans la colonne Ville:\n",
      "         ID     Prénom   Age         Ville\n",
      "0  ID000001      Alice  24.0         Paris\n",
      "1  ID000002        Bob  23.0   Los Angeles\n",
      "2  ID000003    Charlie  28.5      New York\n",
      "3  ID000004      David  29.0         Dubai\n",
      "4  ID000005    Saoirse  28.0         Paris\n",
      "5  ID000006  Fatimatou  28.5         Dakar\n",
      "6  ID000007       Fang  30.0       Beijing\n",
      "7  ID000008     Hassan  31.0         Cairo\n",
      "8  ID000009     Ingrid  25.0        Sydney\n",
      "9  ID000010   Blessing  26.0  Johannesburg\n"
     ]
    }
   ],
   "source": [
    "\n",
    "df_erreurs['Ville'] = df_erreurs['Ville'].replace('Pariss', 'Paris')\n",
    "\n",
    "print(\"\\nDataFrame après correction des erreurs typographiques dans la colonne Ville:\")\n",
    "print(df_erreurs)\n",
    "\n",
    "df_erreurs.to_csv('val_sans_erreurs.csv', index=False)\n"
   ]
  },
  {
   "cell_type": "code",
   "execution_count": null,
   "id": "06683579",
   "metadata": {},
   "outputs": [],
   "source": []
  }
 ],
 "metadata": {
  "kernelspec": {
   "display_name": "Python 3 (ipykernel)",
   "language": "python",
   "name": "python3"
  },
  "language_info": {
   "codemirror_mode": {
    "name": "ipython",
    "version": 3
   },
   "file_extension": ".py",
   "mimetype": "text/x-python",
   "name": "python",
   "nbconvert_exporter": "python",
   "pygments_lexer": "ipython3",
   "version": "3.10.9"
  }
 },
 "nbformat": 4,
 "nbformat_minor": 5
}
