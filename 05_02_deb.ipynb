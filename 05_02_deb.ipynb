{
 "cells": [
  {
   "cell_type": "code",
   "execution_count": 1,
   "id": "d04abb8c-01b2-4ff7-90cf-b2e93002668f",
   "metadata": {},
   "outputs": [],
   "source": [
    "import pandas as pd\n",
    "\n",
    "def remplace_virgules_avec_points(df, colonne):\n",
    "\n",
    "    df[colonne] = df[colonne].astype(str).str.replace(',', '.').astype(float)\n",
    "    return df\n",
    "\n",
    "def nettoyage_texte(df, colonnes):\n",
    "\n",
    "    for colonne in colonnes:\n",
    "        df[colonne] = df[colonne].str.strip().str.title()\n",
    "    return df\n",
    "\n",
    "def corr_texte(df, colonne, val_1, val_2):\n",
    "    df[colonne] = df[colonne].apply(lambda x: val_1 if x == val_2 else x)\n",
    "    return df"
   ]
  },
  {
   "cell_type": "code",
   "execution_count": 3,
   "id": "228ead47-1cbc-486f-8654-b9f64fa60316",
   "metadata": {},
   "outputs": [],
   "source": [
    "from sklearn.pipeline import Pipeline, FunctionTransformer"
   ]
  },
  {
   "cell_type": "code",
   "execution_count": 5,
   "id": "2a267da5-2a18-432b-b9de-c388a9c9a0a8",
   "metadata": {},
   "outputs": [],
   "source": [
    "remplace_virgules_transformer = FunctionTransformer(remplace_virgules_avec_points, kw_args={'colonne': 'Note'})\n",
    "nettoyage_texte_transformer = FunctionTransformer(nettoyage_texte, kw_args={'colonnes': ['Prénom étudiant']})\n",
    "corr_texte_transformer = FunctionTransformer(corr_texte, kw_args={'colonne': 'Filière','val_1':'F1', 'val_2':'F'})"
   ]
  },
  {
   "cell_type": "code",
   "execution_count": 7,
   "id": "75a27cae-b46f-45c9-abe8-29681928f38a",
   "metadata": {},
   "outputs": [],
   "source": [
    "pipeline = Pipeline(steps=[\n",
    "    ('remplace_virgules', remplace_virgules_transformer),\n",
    "    ('nettoyage_texte', nettoyage_texte_transformer),\n",
    "    ('corr_texte', corr_texte_transformer)\n",
    "])"
   ]
  },
  {
   "cell_type": "code",
   "execution_count": 9,
   "id": "1a053d1b-001e-47a1-812a-d144d00af0a3",
   "metadata": {},
   "outputs": [
    {
     "name": "stdout",
     "output_type": "stream",
     "text": [
      "DataFrame avec liste des étudiants:\n",
      "  Prénom étudiant Filière  Note\n",
      "0          ALice       F1  14.5\n",
      "1           AHMED      F2  15,1\n",
      "2       CHARLotte      F3  15.2\n",
      "3           DAVID       F  15.5\n",
      "4           Alice      F1  14,5\n",
      "5            Fang       F    13\n"
     ]
    }
   ],
   "source": [
    "df_notes = pd.read_csv('notes.csv')\n",
    "\n",
    "print(\"DataFrame avec liste des étudiants:\")\n",
    "print(df_notes)"
   ]
  },
  {
   "cell_type": "code",
   "execution_count": 11,
   "id": "e1525235-3261-40a0-a111-ba732031498b",
   "metadata": {},
   "outputs": [
    {
     "name": "stdout",
     "output_type": "stream",
     "text": [
      "  Prénom étudiant Filière  Note\n",
      "0           Alice      F1  14.5\n",
      "1           Ahmed      F2  15.1\n",
      "2       Charlotte      F3  15.2\n",
      "3           David      F1  15.5\n",
      "4           Alice      F1  14.5\n",
      "5            Fang      F1  13.0\n"
     ]
    }
   ],
   "source": [
    "df_net = pipeline.fit_transform(df_notes)\n",
    "print(df_net)"
   ]
  },
  {
   "cell_type": "code",
   "execution_count": null,
   "id": "34b5dddb-5cb9-408c-8a1a-8b30200a3be3",
   "metadata": {},
   "outputs": [],
   "source": []
  }
 ],
 "metadata": {
  "kernelspec": {
   "display_name": "Python 3 (ipykernel)",
   "language": "python",
   "name": "python3"
  },
  "language_info": {
   "codemirror_mode": {
    "name": "ipython",
    "version": 3
   },
   "file_extension": ".py",
   "mimetype": "text/x-python",
   "name": "python",
   "nbconvert_exporter": "python",
   "pygments_lexer": "ipython3",
   "version": "3.12.4"
  }
 },
 "nbformat": 4,
 "nbformat_minor": 5
}
