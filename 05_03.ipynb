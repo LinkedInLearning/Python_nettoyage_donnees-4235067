{
 "cells": [
  {
   "cell_type": "code",
   "execution_count": 14,
   "id": "3c5494ca",
   "metadata": {},
   "outputs": [],
   "source": [
    "# Initialise la variable avec la valeur par défaut\n",
    "valeur = 10"
   ]
  },
  {
   "cell_type": "code",
   "execution_count": 13,
   "id": "d068e20e",
   "metadata": {},
   "outputs": [
    {
     "data": {
      "text/plain": [
       "'\\nCette section du code initialise les paramètres par défaut,\\nvérifie les préconditions et prépare le système pour le traitement.\\n'"
      ]
     },
     "execution_count": 13,
     "metadata": {},
     "output_type": "execute_result"
    }
   ],
   "source": [
    "\"\"\"\n",
    "Cette section du code initialise les paramètres par défaut,\n",
    "vérifie les préconditions et prépare le système pour le traitement.\n",
    "\"\"\""
   ]
  },
  {
   "cell_type": "markdown",
   "id": "86cdb7fe",
   "metadata": {},
   "source": [
    "initialiser_parametres()\n",
    "\n",
    "verifier_preconditions()\n",
    "\n",
    "preparer_systeme()"
   ]
  },
  {
   "cell_type": "code",
   "execution_count": 15,
   "id": "fad2f054",
   "metadata": {},
   "outputs": [],
   "source": [
    "def ajouter(a, b):\n",
    "    \"\"\"\n",
    "    Additionne deux nombres et retourne le résultat.\n",
    "\n",
    "    Args:\n",
    "        a (int, float): Le premier nombre.\n",
    "        b (int, float): Le deuxième nombre.\n",
    "\n",
    "    Returns:\n",
    "        int, float: La somme des deux nombres.\n",
    "    \"\"\"\n",
    "    return a + b"
   ]
  },
  {
   "cell_type": "code",
   "execution_count": null,
   "id": "bebc238c",
   "metadata": {},
   "outputs": [],
   "source": [
    "pip install sphinx"
   ]
  },
  {
   "cell_type": "code",
   "execution_count": null,
   "id": "b7e3617e",
   "metadata": {},
   "outputs": [],
   "source": [
    "import subprocess\n",
    "\n",
    "# Initialiser le projet Sphinx\n",
    "subprocess.run([\"sphinx-quickstart\", \"--quiet\", \"-p\", \"MonProjetTestSphinx\", \"-a\", \"Omar\", \"-v\", \"0.1\", \"--sep\", \"--makefile\", \"--batchfile\", \"--extensions\", \"sphinx.ext.autodoc,sphinx.ext.napoleon\"], check=True)"
   ]
  },
  {
   "cell_type": "code",
   "execution_count": 9,
   "id": "99e16b89",
   "metadata": {},
   "outputs": [],
   "source": [
    "code = \"\"\"\n",
    "# -*- coding: utf-8 -*-\n",
    "# data_cleaning.py\n",
    "\n",
    "def remplace_virgules_avec_points(note):\n",
    "    \\\"\"\"\n",
    "    Remplace les virgules par des points dans une chaîne de caractères représentant une note.\n",
    "\n",
    "    Parameters\n",
    "    ----------\n",
    "    note : str\n",
    "        La note avec des virgules à remplacer par des points.\n",
    "\n",
    "    Returns\n",
    "    -------\n",
    "    float\n",
    "        La note après remplacement des virgules par des points.\n",
    "    \\\"\"\"\n",
    "    return float(note.replace(',', '.'))\n",
    "\n",
    "def nettoyage_texte(texte):\n",
    "    \\\"\"\"\n",
    "    Nettoie le texte en supprimant les espaces en trop et en mettant la première lettre en majuscule.\n",
    "\n",
    "    Parameters\n",
    "    ----------\n",
    "    texte : str\n",
    "        Le texte à nettoyer.\n",
    "\n",
    "    Returns\n",
    "    -------\n",
    "    str\n",
    "        Le texte nettoyé.\n",
    "    \\\"\"\"\n",
    "    return texte.strip().title()\n",
    "\n",
    "def corr_texte(filiere):\n",
    "    \\\"\"\"\n",
    "    Corrige les filières manquantes en ajoutant '1' à 'F'.\n",
    "\n",
    "    Parameters\n",
    "    ----------\n",
    "    filiere : str\n",
    "        La filière à corriger.\n",
    "\n",
    "    Returns\n",
    "    -------\n",
    "    str\n",
    "        La filière corrigée.\n",
    "    \\\"\"\"\n",
    "    return 'F1' if filiere == 'F' else filiere\n",
    "\"\"\"\n",
    "\n",
    "with open(\"data_cleaning.py\", \"w\", encoding=\"utf-8\") as file:\n",
    "    file.write(code)"
   ]
  },
  {
   "cell_type": "code",
   "execution_count": 10,
   "id": "e9d644a2",
   "metadata": {},
   "outputs": [],
   "source": [
    "index_rst_code = \"\"\"\n",
    ".. toctree::\n",
    "   :maxdepth: 2\n",
    "   :caption: Contents:\n",
    "\n",
    ".. automodule:: data_cleaning\n",
    "    :members:\n",
    "    :undoc-members:\n",
    "    :show-inheritance:\n",
    "\"\"\"\n",
    "\n",
    "with open(\"source/index.rst\", \"w\") as file:\n",
    "    file.write(index_rst_code)"
   ]
  },
  {
   "cell_type": "code",
   "execution_count": 11,
   "id": "20709fd2",
   "metadata": {},
   "outputs": [
    {
     "name": "stdout",
     "output_type": "stream",
     "text": [
      "Running Sphinx v5.0.2\n",
      "loading pickled environment... done\n",
      "building [mo]: targets for 0 po files that are out of date\n",
      "building [html]: targets for 1 source files that are out of date\n",
      "updating environment: 0 added, 1 changed, 0 removed\n",
      "reading sources... [100%] index                                                \n",
      "looking for now-outdated files... none found\n",
      "pickling environment... done\n",
      "checking consistency... done\n",
      "preparing documents... done\n",
      "writing output... [100%] index                                                 \n",
      "generating indices... genindex py-modindex done\n",
      "writing additional pages... search done\n",
      "copying static files... done\n",
      "copying extra files... done\n",
      "dumping search index in English (code: en)... done\n",
      "dumping object inventory... done\n",
      "build succeeded.\n",
      "\n",
      "The HTML pages are in _build\\html.\n"
     ]
    }
   ],
   "source": [
    "import os\n",
    "from sphinx.cmd.build import main\n",
    "\n",
    "# Naviguer vers le dossier source\n",
    "os.chdir(\"source\")\n",
    "\n",
    "# Générer la documentation HTML\n",
    "main([\"-b\", \"html\", \".\", \"_build/html\"])\n",
    "\n",
    "# Revenir au répertoire précédent\n",
    "os.chdir(\"..\")"
   ]
  },
  {
   "cell_type": "code",
   "execution_count": 12,
   "id": "8eed0ac8",
   "metadata": {},
   "outputs": [
    {
     "data": {
      "text/html": [
       "\n",
       "        <iframe\n",
       "            width=\"800\"\n",
       "            height=\"600\"\n",
       "            src=\"./source/_build/html/index.html\"\n",
       "            frameborder=\"0\"\n",
       "            allowfullscreen\n",
       "            \n",
       "        ></iframe>\n",
       "        "
      ],
      "text/plain": [
       "<IPython.lib.display.IFrame at 0x24db685cb50>"
      ]
     },
     "execution_count": 12,
     "metadata": {},
     "output_type": "execute_result"
    }
   ],
   "source": [
    "from IPython.display import IFrame\n",
    "IFrame(src='./source/_build/html/index.html', width=800, height=600)"
   ]
  },
  {
   "cell_type": "code",
   "execution_count": null,
   "id": "6a491899",
   "metadata": {},
   "outputs": [],
   "source": []
  }
 ],
 "metadata": {
  "kernelspec": {
   "display_name": "Python 3 (ipykernel)",
   "language": "python",
   "name": "python3"
  },
  "language_info": {
   "codemirror_mode": {
    "name": "ipython",
    "version": 3
   },
   "file_extension": ".py",
   "mimetype": "text/x-python",
   "name": "python",
   "nbconvert_exporter": "python",
   "pygments_lexer": "ipython3",
   "version": "3.10.9"
  }
 },
 "nbformat": 4,
 "nbformat_minor": 5
}
