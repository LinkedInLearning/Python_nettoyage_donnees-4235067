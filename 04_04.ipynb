{
 "cells": [
  {
   "cell_type": "code",
   "execution_count": 3,
   "id": "95606eb7",
   "metadata": {},
   "outputs": [
    {
     "name": "stdout",
     "output_type": "stream",
     "text": [
      "DataFrame avec des données brutes:\n",
      "                      RawData\n",
      "0            Alice, 24, Paris\n",
      "1        Bob, 35, Los Angeles\n",
      "2       Charlie, 22, New York\n",
      "3            David, 29, Dubai\n",
      "4         Saoirse, 33, Dublin\n",
      "5        Fatimatou, 27, Dakar\n",
      "6           Fang, 30, Beijing\n",
      "7           Hassan, 28, Cairo\n",
      "8           Ingrid, 25, Tokyo\n",
      "9  Blessing, 26, Johannesburg\n"
     ]
    }
   ],
   "source": [
    "import pandas as pd\n",
    "\n",
    "df = pd.read_csv('data_brutes.csv')\n",
    "\n",
    "print(\"DataFrame avec des données brutes:\")\n",
    "print(df_brutes)"
   ]
  },
  {
   "cell_type": "code",
   "execution_count": 4,
   "id": "def5ff7b",
   "metadata": {},
   "outputs": [
    {
     "name": "stdout",
     "output_type": "stream",
     "text": [
      "                      RawData     Prénom\n",
      "0            Alice, 24, Paris      Alice\n",
      "1        Bob, 35, Los Angeles        Bob\n",
      "2       Charlie, 22, New York    Charlie\n",
      "3            David, 29, Dubai      David\n",
      "4         Saoirse, 33, Dublin    Saoirse\n",
      "5        Fatimatou, 27, Dakar  Fatimatou\n",
      "6           Fang, 30, Beijing       Fang\n",
      "7           Hassan, 28, Cairo     Hassan\n",
      "8           Ingrid, 25, Tokyo     Ingrid\n",
      "9  Blessing, 26, Johannesburg   Blessing\n"
     ]
    }
   ],
   "source": [
    "import re\n",
    "\n",
    "def extract_prenom(raw_data):\n",
    "    pattern = r'(\\w+),'  \n",
    "    match = re.match(pattern, raw_data)\n",
    "    if match:\n",
    "        return match.group(1)\n",
    "    else:\n",
    "        return None\n",
    "\n",
    "df['Prénom'] = df['RawData'].apply(extract_prenom)\n",
    "print(df)"
   ]
  },
  {
   "cell_type": "code",
   "execution_count": 5,
   "id": "c89d0a6c",
   "metadata": {},
   "outputs": [
    {
     "name": "stdout",
     "output_type": "stream",
     "text": [
      "                      RawData     Prénom Age\n",
      "0            Alice, 24, Paris      Alice  24\n",
      "1        Bob, 35, Los Angeles        Bob  35\n",
      "2       Charlie, 22, New York    Charlie  22\n",
      "3            David, 29, Dubai      David  29\n",
      "4         Saoirse, 33, Dublin    Saoirse  33\n",
      "5        Fatimatou, 27, Dakar  Fatimatou  27\n",
      "6           Fang, 30, Beijing       Fang  30\n",
      "7           Hassan, 28, Cairo     Hassan  28\n",
      "8           Ingrid, 25, Tokyo     Ingrid  25\n",
      "9  Blessing, 26, Johannesburg   Blessing  26\n"
     ]
    }
   ],
   "source": [
    "def extract_age(raw_data):\n",
    "    pattern = r'\\w+, (\\d+),'  \n",
    "    match = re.match(pattern, raw_data)\n",
    "    if match:\n",
    "        return match.group(1)\n",
    "    else:\n",
    "        return None\n",
    "\n",
    "df['Age'] = df['RawData'].apply(extract_age)\n",
    "print(df)"
   ]
  },
  {
   "cell_type": "code",
   "execution_count": 6,
   "id": "b805b572",
   "metadata": {},
   "outputs": [
    {
     "name": "stdout",
     "output_type": "stream",
     "text": [
      "                      RawData     Prénom Age         Ville\n",
      "0            Alice, 24, Paris      Alice  24         Paris\n",
      "1        Bob, 35, Los Angeles        Bob  35   Los Angeles\n",
      "2       Charlie, 22, New York    Charlie  22      New York\n",
      "3            David, 29, Dubai      David  29         Dubai\n",
      "4         Saoirse, 33, Dublin    Saoirse  33        Dublin\n",
      "5        Fatimatou, 27, Dakar  Fatimatou  27         Dakar\n",
      "6           Fang, 30, Beijing       Fang  30       Beijing\n",
      "7           Hassan, 28, Cairo     Hassan  28         Cairo\n",
      "8           Ingrid, 25, Tokyo     Ingrid  25         Tokyo\n",
      "9  Blessing, 26, Johannesburg   Blessing  26  Johannesburg\n"
     ]
    }
   ],
   "source": [
    "def extract_ville(raw_data):\n",
    "    pattern = r'\\w+, \\d+, (.+)'  \n",
    "    match = re.match(pattern, raw_data)\n",
    "    if match:\n",
    "        return match.group(1)\n",
    "    else:\n",
    "        return None\n",
    "\n",
    "df['Ville'] = df['RawData'].apply(extract_ville)\n",
    "print(df)"
   ]
  },
  {
   "cell_type": "code",
   "execution_count": 7,
   "id": "7a036faa",
   "metadata": {},
   "outputs": [
    {
     "name": "stdout",
     "output_type": "stream",
     "text": [
      "      Prénom Age         Ville\n",
      "0      Alice  24         Paris\n",
      "1        Bob  35   Los Angeles\n",
      "2    Charlie  22      New York\n",
      "3      David  29         Dubai\n",
      "4    Saoirse  33        Dublin\n",
      "5  Fatimatou  27         Dakar\n",
      "6       Fang  30       Beijing\n",
      "7     Hassan  28         Cairo\n",
      "8     Ingrid  25         Tokyo\n",
      "9   Blessing  26  Johannesburg\n"
     ]
    }
   ],
   "source": [
    "df = df.drop('RawData', axis=1)\n",
    "print(df)"
   ]
  },
  {
   "cell_type": "code",
   "execution_count": null,
   "id": "146f5d0a",
   "metadata": {},
   "outputs": [],
   "source": []
  }
 ],
 "metadata": {
  "kernelspec": {
   "display_name": "Python 3 (ipykernel)",
   "language": "python",
   "name": "python3"
  },
  "language_info": {
   "codemirror_mode": {
    "name": "ipython",
    "version": 3
   },
   "file_extension": ".py",
   "mimetype": "text/x-python",
   "name": "python",
   "nbconvert_exporter": "python",
   "pygments_lexer": "ipython3",
   "version": "3.10.9"
  }
 },
 "nbformat": 4,
 "nbformat_minor": 5
}
