{
 "cells": [
  {
   "cell_type": "code",
   "execution_count": 76,
   "id": "c8d818e6",
   "metadata": {},
   "outputs": [
    {
     "name": "stdout",
     "output_type": "stream",
     "text": [
      "DataFrame avec liste des étudiants:\n",
      "  Prénom étudiant Filière  Note\n",
      "0          ALice       F1  14.5\n",
      "1           AHMED      F2  15,1\n",
      "2       CHARLotte      F3  15.2\n",
      "3           DAVID       F  15.5\n",
      "4           Alice      F1  14,5\n",
      "5            Fang       F    13\n"
     ]
    }
   ],
   "source": [
    "import pandas as pd\n",
    "\n",
    "df_notes = pd.read_csv('notes.csv')\n",
    "\n",
    "print(\"DataFrame avec liste des étudiants:\")\n",
    "print(df_notes)"
   ]
  },
  {
   "cell_type": "code",
   "execution_count": 77,
   "id": "f5f30fa6",
   "metadata": {},
   "outputs": [],
   "source": [
    "import re\n",
    "\n",
    "def remplace_virgules_avec_points(df, colonne):\n",
    "\n",
    "    df[colonne] = df[colonne].astype(str).str.replace(',', '.').astype(float)\n",
    "    return df"
   ]
  },
  {
   "cell_type": "code",
   "execution_count": 78,
   "id": "528ffa01",
   "metadata": {},
   "outputs": [
    {
     "name": "stdout",
     "output_type": "stream",
     "text": [
      "  Prénom étudiant Filière  Note\n",
      "0          ALice       F1  14.5\n",
      "1           AHMED      F2  15.1\n",
      "2       CHARLotte      F3  15.2\n",
      "3           DAVID       F  15.5\n",
      "4           Alice      F1  14.5\n",
      "5            Fang       F  13.0\n"
     ]
    }
   ],
   "source": [
    "df_notes = remplace_virgules_avec_points(df_notes, 'Note')\n",
    "print(df_notes)"
   ]
  },
  {
   "cell_type": "code",
   "execution_count": 79,
   "id": "14e63cab",
   "metadata": {},
   "outputs": [],
   "source": [
    "def nettoyage_texte(df, colonnes):\n",
    "\n",
    "    for colonne in colonnes:\n",
    "        df[colonne] = df[colonne].str.strip().str.title()\n",
    "    return df\n"
   ]
  },
  {
   "cell_type": "code",
   "execution_count": 80,
   "id": "672e7a93",
   "metadata": {},
   "outputs": [
    {
     "name": "stdout",
     "output_type": "stream",
     "text": [
      "  Prénom étudiant Filière  Note\n",
      "0           Alice      F1  14.5\n",
      "1           Ahmed      F2  15.1\n",
      "2       Charlotte      F3  15.2\n",
      "3           David       F  15.5\n",
      "4           Alice      F1  14.5\n",
      "5            Fang       F  13.0\n"
     ]
    }
   ],
   "source": [
    "df_notes = nettoyage_texte(df_notes, ['Prénom étudiant'])\n",
    "print(df_notes)"
   ]
  },
  {
   "cell_type": "code",
   "execution_count": 81,
   "id": "809cc989",
   "metadata": {},
   "outputs": [],
   "source": [
    "def corr_texte(df, colonne, val_1, val_2):\n",
    "    df[colonne] = df[colonne].apply(lambda x: val_1 if x == val_2 else x)\n",
    "    return df"
   ]
  },
  {
   "cell_type": "code",
   "execution_count": 82,
   "id": "06f9a419",
   "metadata": {},
   "outputs": [
    {
     "name": "stdout",
     "output_type": "stream",
     "text": [
      "  Prénom étudiant Filière  Note\n",
      "0           Alice      F1  14.5\n",
      "1           Ahmed      F2  15.1\n",
      "2       Charlotte      F3  15.2\n",
      "3           David      F1  15.5\n",
      "4           Alice      F1  14.5\n",
      "5            Fang      F1  13.0\n"
     ]
    }
   ],
   "source": [
    "df_notes = corr_texte(df_notes, 'Filière', \"F1\",\"F\")\n",
    "print(df_notes)"
   ]
  },
  {
   "cell_type": "code",
   "execution_count": null,
   "id": "a44f9089",
   "metadata": {},
   "outputs": [],
   "source": []
  }
 ],
 "metadata": {
  "kernelspec": {
   "display_name": "Python 3 (ipykernel)",
   "language": "python",
   "name": "python3"
  },
  "language_info": {
   "codemirror_mode": {
    "name": "ipython",
    "version": 3
   },
   "file_extension": ".py",
   "mimetype": "text/x-python",
   "name": "python",
   "nbconvert_exporter": "python",
   "pygments_lexer": "ipython3",
   "version": "3.10.9"
  }
 },
 "nbformat": 4,
 "nbformat_minor": 5
}
