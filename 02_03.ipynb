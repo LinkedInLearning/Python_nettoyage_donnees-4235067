{
 "cells": [
  {
   "cell_type": "code",
   "execution_count": 2,
   "id": "09b49eaf",
   "metadata": {},
   "outputs": [
    {
     "name": "stdout",
     "output_type": "stream",
     "text": [
      "DataFrame avec des doublons:\n",
      "          ID     Prénom  Age         Ville\n",
      "0   ID000001      Alice   24         Paris\n",
      "1   ID000002        Bob   23   Los Angeles\n",
      "2   ID000003    Charlie   22      New York\n",
      "3   ID000004      David   29         Dubai\n",
      "4   ID000005    Saoirse   28        Berlin\n",
      "5   ID000006  Fatimatou   27         Dakar\n",
      "6   ID000007       Fang   30       Beijing\n",
      "7   ID000008     Hassan   31         Tokyo\n",
      "8   ID000009     Ingrid   25        Sydney\n",
      "9   ID000010   Blessing   26  Johannesburg\n",
      "10  ID000001      Alice   24         Paris\n",
      "11  ID000002        Bob   23   Los Angeles\n",
      "12  ID000003    Charlie   22      New York\n",
      "13  ID000005    Saoirse   28        Berlin\n",
      "14  ID000011        Bob   23   Los Angeles\n"
     ]
    }
   ],
   "source": [
    "import pandas as pd\n",
    "\n",
    "df_val_doub = pd.read_csv('val_doub.csv')\n",
    "\n",
    "print(\"DataFrame avec des doublons:\")\n",
    "print(df_val_doub)"
   ]
  },
  {
   "cell_type": "code",
   "execution_count": 3,
   "id": "c1193460",
   "metadata": {},
   "outputs": [
    {
     "name": "stdout",
     "output_type": "stream",
     "text": [
      "\n",
      "Doublons en considérant toutes les colonnes:\n",
      "          ID   Prénom  Age        Ville\n",
      "10  ID000001    Alice   24        Paris\n",
      "11  ID000002      Bob   23  Los Angeles\n",
      "12  ID000003  Charlie   22     New York\n",
      "13  ID000005  Saoirse   28       Berlin\n",
      "\n",
      "Doublons en ne considérant pas la colonne ID:\n",
      "          ID   Prénom  Age        Ville\n",
      "10  ID000001    Alice   24        Paris\n",
      "11  ID000002      Bob   23  Los Angeles\n",
      "12  ID000003  Charlie   22     New York\n",
      "13  ID000005  Saoirse   28       Berlin\n",
      "14  ID000011      Bob   23  Los Angeles\n"
     ]
    }
   ],
   "source": [
    "doublons = df_val_doub[df_val_doub.duplicated()]\n",
    "\n",
    "doublons_sauf_id = df_val_doub[df_val_doub.duplicated(subset=['Prénom', 'Age', 'Ville'])]\n",
    "\n",
    "print(\"\\nDoublons en considérant toutes les colonnes:\")\n",
    "print(doublons)\n",
    "\n",
    "print(\"\\nDoublons en ne considérant pas la colonne ID:\")\n",
    "print(doublons_sauf_id)\n"
   ]
  },
  {
   "cell_type": "code",
   "execution_count": 5,
   "id": "339ea6df",
   "metadata": {},
   "outputs": [
    {
     "name": "stdout",
     "output_type": "stream",
     "text": [
      "          ID     Prénom  Age         Ville\n",
      "0   ID000001      Alice   24         Paris\n",
      "1   ID000002        Bob   23   Los Angeles\n",
      "2   ID000003    Charlie   22      New York\n",
      "3   ID000004      David   29         Dubai\n",
      "4   ID000005    Saoirse   28        Berlin\n",
      "5   ID000006  Fatimatou   27         Dakar\n",
      "6   ID000007       Fang   30       Beijing\n",
      "7   ID000008     Hassan   31         Tokyo\n",
      "8   ID000009     Ingrid   25        Sydney\n",
      "9   ID000010   Blessing   26  Johannesburg\n",
      "14  ID000011        Bob   23   Los Angeles\n"
     ]
    }
   ],
   "source": [
    "df_sans_doub = df_val_doub.drop_duplicates()\n",
    "print(df_sans_doub)"
   ]
  },
  {
   "cell_type": "code",
   "execution_count": 6,
   "id": "0f52de39",
   "metadata": {},
   "outputs": [
    {
     "name": "stdout",
     "output_type": "stream",
     "text": [
      "\n",
      "DataFrame sans doublons (en ne considérant pas la colonne ID):\n",
      "         ID     Prénom  Age         Ville\n",
      "0  ID000001      Alice   24         Paris\n",
      "1  ID000002        Bob   23   Los Angeles\n",
      "2  ID000003    Charlie   22      New York\n",
      "3  ID000004      David   29         Dubai\n",
      "4  ID000005    Saoirse   28        Berlin\n",
      "5  ID000006  Fatimatou   27         Dakar\n",
      "6  ID000007       Fang   30       Beijing\n",
      "7  ID000008     Hassan   31         Tokyo\n",
      "8  ID000009     Ingrid   25        Sydney\n",
      "9  ID000010   Blessing   26  Johannesburg\n"
     ]
    }
   ],
   "source": [
    "df_sans_doub_excl_id = df_val_doub.drop_duplicates(subset=['Prénom', 'Age', 'Ville'])\n",
    "print(\"\\nDataFrame sans doublons (en ne considérant pas la colonne ID):\")\n",
    "print(df_sans_doub_excl_id)"
   ]
  },
  {
   "cell_type": "code",
   "execution_count": null,
   "id": "c424066f",
   "metadata": {},
   "outputs": [],
   "source": []
  }
 ],
 "metadata": {
  "kernelspec": {
   "display_name": "Python 3 (ipykernel)",
   "language": "python",
   "name": "python3"
  },
  "language_info": {
   "codemirror_mode": {
    "name": "ipython",
    "version": 3
   },
   "file_extension": ".py",
   "mimetype": "text/x-python",
   "name": "python",
   "nbconvert_exporter": "python",
   "pygments_lexer": "ipython3",
   "version": "3.10.9"
  }
 },
 "nbformat": 4,
 "nbformat_minor": 5
}
