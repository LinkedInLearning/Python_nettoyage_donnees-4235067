{
 "cells": [
  {
   "cell_type": "code",
   "execution_count": 1,
   "id": "e12a8512-d580-441b-9c00-7c65b6233d52",
   "metadata": {},
   "outputs": [],
   "source": [
    "import unittest\n",
    "import pandas as pd"
   ]
  },
  {
   "cell_type": "code",
   "execution_count": 3,
   "id": "0c126576-64d2-4eed-815d-06341507a82f",
   "metadata": {},
   "outputs": [],
   "source": [
    "def remplace_virgules_avec_points(df, colonne):\n",
    "    df[colonne] = df[colonne].astype(str).str.replace(',', '.').astype(float)\n",
    "    return df"
   ]
  },
  {
   "cell_type": "code",
   "execution_count": 5,
   "id": "e596b595-df46-4886-ac6e-fbdc9234ccdc",
   "metadata": {},
   "outputs": [],
   "source": [
    "class TestNettoyageDonnees(unittest.TestCase):\n",
    "    def test_remplace_virgules_avec_points(self):\n",
    "        df = pd.DataFrame({'Note': ['3,5', '4,0', '2,7']})\n",
    "        df = remplace_virgules_avec_points(df, 'Note')\n",
    "        expected = pd.DataFrame({'Note': [3.5, 4.0, 2.7]})\n",
    "        pd.testing.assert_frame_equal(df, expected)"
   ]
  },
  {
   "cell_type": "code",
   "execution_count": 7,
   "id": "91e566dd-bec1-42b5-a3e0-b87175c5bfa8",
   "metadata": {},
   "outputs": [],
   "source": [
    "loader = unittest.TestLoader()\n",
    "suite = loader.loadTestsFromTestCase(TestNettoyageDonnees)"
   ]
  },
  {
   "cell_type": "code",
   "execution_count": 9,
   "id": "aa1748a9-1423-4319-8062-e3cda3bb9bc5",
   "metadata": {},
   "outputs": [
    {
     "name": "stderr",
     "output_type": "stream",
     "text": [
      ".\n",
      "----------------------------------------------------------------------\n",
      "Ran 1 test in 0.004s\n",
      "\n",
      "OK\n"
     ]
    },
    {
     "data": {
      "text/plain": [
       "<unittest.runner.TextTestResult run=1 errors=0 failures=0>"
      ]
     },
     "execution_count": 9,
     "metadata": {},
     "output_type": "execute_result"
    }
   ],
   "source": [
    "runner = unittest.TextTestRunner()\n",
    "runner.run(suite)"
   ]
  },
  {
   "cell_type": "code",
   "execution_count": 11,
   "id": "17a2fbb8-c6cf-4b17-aa17-80f09796a6ab",
   "metadata": {},
   "outputs": [],
   "source": [
    "def addition(a,b):\n",
    "    return a+b"
   ]
  },
  {
   "cell_type": "code",
   "execution_count": 13,
   "id": "71b1935c-6ed7-417d-9c9e-8ceec43b3da9",
   "metadata": {},
   "outputs": [],
   "source": [
    "class TestAddition(unittest.TestCase):\n",
    "    def test_addition_positive_numbers(self):\n",
    "        self.assertEqual(addition(2, 3), 5)\n",
    "        self.assertEqual(addition(0, 5), 5)\n",
    "        self.assertEqual(addition(10, 0), 10)\n",
    "\n",
    "    def test_addition_avec_neg(self):\n",
    "        self.assertEqual(addition(-2, -3), -5)\n",
    "        self.assertEqual(addition(-2, 3), 1)\n",
    "        self.assertEqual(addition(2, -3), -1)\n",
    "\n",
    "    def test_addition_som_nulle(self):\n",
    "        self.assertEqual(addition(-2, 2), 0)\n",
    "        self.assertEqual(addition(2, -2), 0)\n",
    "\n",
    "    def test_addition_avec_zero(self):\n",
    "        self.assertEqual(addition(0, 0), 0)\n",
    "\n",
    "    def test_addition_nombres_larges(self):\n",
    "        self.assertEqual(addition(1e6, 1e6), 2e6)\n",
    "\n",
    "    def test_addition_entrees_invalides(self):\n",
    "        with self.assertRaises(TypeError):\n",
    "            addition(\"a\", 1)\n",
    "        with self.assertRaises(TypeError):\n",
    "            addition(1, \"b\")\n",
    "        with self.assertRaises(TypeError):\n",
    "            addition(None, 1)\n"
   ]
  },
  {
   "cell_type": "code",
   "execution_count": 15,
   "id": "40cd3ed3-ba51-48e4-8f74-47797496294d",
   "metadata": {},
   "outputs": [
    {
     "name": "stderr",
     "output_type": "stream",
     "text": [
      "......\n",
      "----------------------------------------------------------------------\n",
      "Ran 6 tests in 0.004s\n",
      "\n",
      "OK\n"
     ]
    },
    {
     "data": {
      "text/plain": [
       "<unittest.runner.TextTestResult run=6 errors=0 failures=0>"
      ]
     },
     "execution_count": 15,
     "metadata": {},
     "output_type": "execute_result"
    }
   ],
   "source": [
    "loader = unittest.TestLoader()\n",
    "suite = loader.loadTestsFromTestCase(TestAddition)\n",
    "runner = unittest.TextTestRunner()\n",
    "runner.run(suite)"
   ]
  },
  {
   "cell_type": "code",
   "execution_count": null,
   "id": "9f2c53fd-3ac1-4f3a-9840-269bd35f2e82",
   "metadata": {},
   "outputs": [],
   "source": []
  }
 ],
 "metadata": {
  "kernelspec": {
   "display_name": "Python 3 (ipykernel)",
   "language": "python",
   "name": "python3"
  },
  "language_info": {
   "codemirror_mode": {
    "name": "ipython",
    "version": 3
   },
   "file_extension": ".py",
   "mimetype": "text/x-python",
   "name": "python",
   "nbconvert_exporter": "python",
   "pygments_lexer": "ipython3",
   "version": "3.12.4"
  }
 },
 "nbformat": 4,
 "nbformat_minor": 5
}
