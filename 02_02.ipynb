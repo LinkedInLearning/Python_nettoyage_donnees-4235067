{
 "cells": [
  {
   "cell_type": "code",
   "execution_count": 1,
   "id": "7cd35d8d",
   "metadata": {},
   "outputs": [
    {
     "name": "stdout",
     "output_type": "stream",
     "text": [
      "DataFrame avec prénoms manquants:\n",
      "         ID     Prénom  Age         Ville\n",
      "0  ID000001      Alice   24         Paris\n",
      "1  ID000002        NaN   23   Los Angeles\n",
      "2  ID000003    Charlie   22      New York\n",
      "3  ID000004      David   29         Dubai\n",
      "4  ID000005        NaN   28        Berlin\n",
      "5  ID000006  Fatimatou   27         Dakar\n",
      "6  ID000007       Fang   30       Beijing\n",
      "7  ID000008        NaN   31         Tokyo\n",
      "8  ID000009     Ingrid   25        Sydney\n",
      "9  ID000010   Blessing   26  Johannesburg\n"
     ]
    }
   ],
   "source": [
    "import pandas as pd\n",
    "\n",
    "df_val_manquantes = pd.read_csv('val_manquantes_2.csv')\n",
    "\n",
    "\n",
    "print(\"DataFrame avec prénoms manquants:\")\n",
    "print(df_val_manquantes)"
   ]
  },
  {
   "cell_type": "code",
   "execution_count": 2,
   "id": "4c66e134",
   "metadata": {},
   "outputs": [
    {
     "name": "stdout",
     "output_type": "stream",
     "text": [
      "         ID     Prénom\n",
      "0  ID000001      Alice\n",
      "1  ID000002        Bob\n",
      "2  ID000003    Charlie\n",
      "3  ID000004      David\n",
      "4  ID000005    Saoirse\n",
      "5  ID000006  Fatimatou\n",
      "6  ID000007       Fang\n",
      "7  ID000008     Hassan\n",
      "8  ID000009     Ingrid\n",
      "9  ID000010   Blessing\n"
     ]
    }
   ],
   "source": [
    "df_liste_clients = pd.read_csv('liste_clients.csv')\n",
    "print(df_liste_clients)"
   ]
  },
  {
   "cell_type": "code",
   "execution_count": 4,
   "id": "26eaae74",
   "metadata": {},
   "outputs": [
    {
     "name": "stdout",
     "output_type": "stream",
     "text": [
      "\n",
      "DataFrame après imputation des prénoms manquants:\n",
      "         ID     Prénom  Age         Ville\n",
      "0  ID000001      Alice   24         Paris\n",
      "1  ID000002        Bob   23   Los Angeles\n",
      "2  ID000003    Charlie   22      New York\n",
      "3  ID000004      David   29         Dubai\n",
      "4  ID000005    Saoirse   28        Berlin\n",
      "5  ID000006  Fatimatou   27         Dakar\n",
      "6  ID000007       Fang   30       Beijing\n",
      "7  ID000008     Hassan   31         Tokyo\n",
      "8  ID000009     Ingrid   25        Sydney\n",
      "9  ID000010   Blessing   26  Johannesburg\n"
     ]
    }
   ],
   "source": [
    "df_maj = df_val_manquantes.copy()\n",
    "\n",
    "for i, row in df_val_manquantes.iterrows():\n",
    "    if pd.isnull(row['Prénom']):\n",
    "        liste_clients = df_liste_clients[df_liste_clients['ID'] == row['ID']]['Prénom']\n",
    "        if not liste_clients.empty:\n",
    "            df_maj.at[i, 'Prénom'] = liste_clients.values[0]\n",
    "\n",
    "print(\"\\nDataFrame après imputation des prénoms manquants:\")\n",
    "print(df_maj)"
   ]
  },
  {
   "cell_type": "code",
   "execution_count": 5,
   "id": "29a888ee",
   "metadata": {},
   "outputs": [],
   "source": [
    "df_maj.to_csv('val_maj.csv', index=False)"
   ]
  },
  {
   "cell_type": "code",
   "execution_count": null,
   "id": "e208ae51",
   "metadata": {},
   "outputs": [],
   "source": []
  }
 ],
 "metadata": {
  "kernelspec": {
   "display_name": "Python 3 (ipykernel)",
   "language": "python",
   "name": "python3"
  },
  "language_info": {
   "codemirror_mode": {
    "name": "ipython",
    "version": 3
   },
   "file_extension": ".py",
   "mimetype": "text/x-python",
   "name": "python",
   "nbconvert_exporter": "python",
   "pygments_lexer": "ipython3",
   "version": "3.10.9"
  }
 },
 "nbformat": 4,
 "nbformat_minor": 5
}
