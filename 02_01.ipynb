{
 "cells": [
  {
   "cell_type": "code",
   "execution_count": 3,
   "id": "35f35767",
   "metadata": {},
   "outputs": [
    {
     "name": "stdout",
     "output_type": "stream",
     "text": [
      "Données:\n",
      "         ID     Prénom   Age         Ville\n",
      "0  ID000001      Alice  24.0         Paris\n",
      "1  ID000002        Bob   NaN   Los Angeles\n",
      "2  ID000003    Charlie  22.0           NaN\n",
      "3  ID000004      David  29.0         Dubai\n",
      "4  ID000005    Saoirse   NaN        Dublin\n",
      "5  ID000006  Fatimatou  27.0         Dakar\n",
      "6  ID000007       Fang  30.0       Beijing\n",
      "7  ID000008     Hassan   NaN         Cairo\n",
      "8  ID000009     Ingrid  25.0           NaN\n",
      "9  ID000010   Blessing  26.0  Johannesburg\n"
     ]
    }
   ],
   "source": [
    "import pandas as pd\n",
    "import numpy as np\n",
    "\n",
    "df = pd.read_csv('val_manquantes.csv')\n",
    "print(\"Données:\")\n",
    "print(df)"
   ]
  },
  {
   "cell_type": "code",
   "execution_count": 5,
   "id": "abfb8823",
   "metadata": {},
   "outputs": [
    {
     "name": "stdout",
     "output_type": "stream",
     "text": [
      "\n",
      "Imputation avec la dernière observation reportée (LOCF):\n",
      "         ID     Prénom   Age         Ville\n",
      "0  ID000001      Alice  24.0         Paris\n",
      "1  ID000002        Bob  24.0   Los Angeles\n",
      "2  ID000003    Charlie  22.0   Los Angeles\n",
      "3  ID000004      David  29.0         Dubai\n",
      "4  ID000005    Saoirse  29.0        Dublin\n",
      "5  ID000006  Fatimatou  27.0         Dakar\n",
      "6  ID000007       Fang  30.0       Beijing\n",
      "7  ID000008     Hassan  30.0         Cairo\n",
      "8  ID000009     Ingrid  25.0         Cairo\n",
      "9  ID000010   Blessing  26.0  Johannesburg\n"
     ]
    }
   ],
   "source": [
    "df_locf = df.copy()\n",
    "df_locf['Age'] = df_locf['Age'].fillna(method='ffill')\n",
    "df_locf['Ville'] = df_locf['Ville'].fillna(method='ffill')\n",
    "print(\"\\nImputation avec la dernière observation reportée (LOCF):\")\n",
    "print(df_locf)"
   ]
  },
  {
   "cell_type": "code",
   "execution_count": 6,
   "id": "3a4d7129",
   "metadata": {},
   "outputs": [
    {
     "name": "stdout",
     "output_type": "stream",
     "text": [
      "\n",
      "Imputation avec la moyenne:\n",
      "         ID     Prénom        Age         Ville\n",
      "0  ID000001      Alice  24.000000         Paris\n",
      "1  ID000002        Bob  26.142857   Los Angeles\n",
      "2  ID000003    Charlie  22.000000           NaN\n",
      "3  ID000004      David  29.000000         Dubai\n",
      "4  ID000005    Saoirse  26.142857        Dublin\n",
      "5  ID000006  Fatimatou  27.000000         Dakar\n",
      "6  ID000007       Fang  30.000000       Beijing\n",
      "7  ID000008     Hassan  26.142857         Cairo\n",
      "8  ID000009     Ingrid  25.000000           NaN\n",
      "9  ID000010   Blessing  26.000000  Johannesburg\n"
     ]
    }
   ],
   "source": [
    "df_mean = df.copy()\n",
    "df_mean['Age'] = df_mean['Age'].fillna(df_mean['Age'].mean())\n",
    "print(\"\\nImputation avec la moyenne:\")\n",
    "print(df_mean)"
   ]
  },
  {
   "cell_type": "code",
   "execution_count": 7,
   "id": "961865d9",
   "metadata": {},
   "outputs": [
    {
     "name": "stdout",
     "output_type": "stream",
     "text": [
      "\n",
      "Imputation avec la médiane:\n",
      "         ID     Prénom   Age         Ville\n",
      "0  ID000001      Alice  24.0         Paris\n",
      "1  ID000002        Bob  26.0   Los Angeles\n",
      "2  ID000003    Charlie  22.0           NaN\n",
      "3  ID000004      David  29.0         Dubai\n",
      "4  ID000005    Saoirse  26.0        Dublin\n",
      "5  ID000006  Fatimatou  27.0         Dakar\n",
      "6  ID000007       Fang  30.0       Beijing\n",
      "7  ID000008     Hassan  26.0         Cairo\n",
      "8  ID000009     Ingrid  25.0           NaN\n",
      "9  ID000010   Blessing  26.0  Johannesburg\n"
     ]
    }
   ],
   "source": [
    "df_median = df.copy()\n",
    "df_median['Age'] = df_median['Age'].fillna(df_median['Age'].median())\n",
    "print(\"\\nImputation avec la médiane:\")\n",
    "print(df_median)"
   ]
  },
  {
   "cell_type": "code",
   "execution_count": 10,
   "id": "c6ebb171",
   "metadata": {},
   "outputs": [
    {
     "name": "stdout",
     "output_type": "stream",
     "text": [
      "\n",
      "Imputation avec une valeur spécifique pour 'City':\n",
      "         ID     Prénom   Age         Ville\n",
      "0  ID000001      Alice  24.0         Paris\n",
      "1  ID000002        Bob   NaN   Los Angeles\n",
      "2  ID000003    Charlie  22.0      Inconnue\n",
      "3  ID000004      David  29.0         Dubai\n",
      "4  ID000005    Saoirse   NaN        Dublin\n",
      "5  ID000006  Fatimatou  27.0         Dakar\n",
      "6  ID000007       Fang  30.0       Beijing\n",
      "7  ID000008     Hassan   NaN         Cairo\n",
      "8  ID000009     Ingrid  25.0      Inconnue\n",
      "9  ID000010   Blessing  26.0  Johannesburg\n"
     ]
    }
   ],
   "source": [
    "df_specifique = df.copy()\n",
    "df_specifique['Ville'] = df_specifique['Ville'].fillna('Inconnue')\n",
    "print(\"\\nImputation avec une valeur spécifique pour 'City':\")\n",
    "print(df_specifique)"
   ]
  },
  {
   "cell_type": "code",
   "execution_count": null,
   "id": "654646ce",
   "metadata": {},
   "outputs": [],
   "source": []
  }
 ],
 "metadata": {
  "kernelspec": {
   "display_name": "Python 3 (ipykernel)",
   "language": "python",
   "name": "python3"
  },
  "language_info": {
   "codemirror_mode": {
    "name": "ipython",
    "version": 3
   },
   "file_extension": ".py",
   "mimetype": "text/x-python",
   "name": "python",
   "nbconvert_exporter": "python",
   "pygments_lexer": "ipython3",
   "version": "3.10.9"
  }
 },
 "nbformat": 4,
 "nbformat_minor": 5
}
