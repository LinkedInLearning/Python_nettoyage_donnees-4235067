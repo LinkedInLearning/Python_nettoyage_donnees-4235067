{
 "cells": [
  {
   "cell_type": "code",
   "execution_count": 1,
   "id": "b06eb45a",
   "metadata": {},
   "outputs": [
    {
     "name": "stdout",
     "output_type": "stream",
     "text": [
      "         ID     Prénom  Age         Ville\n",
      "0  ID000001      Alice   24         Paris\n",
      "1  ID000002        Bob   22   Los Angeles\n",
      "2  ID000003      Angel   22   Los Angeles\n",
      "3  ID000004      David   29         Dubai\n",
      "4  ID000001      Alice   24         Paris\n",
      "5  ID000006  Fatimatou   27         Dakar\n",
      "6  ID000007       Fang   30       Beijing\n",
      "7  ID000008     Hassan   30         Cairo\n",
      "8  ID000009     Ingrid   25  Johannesburg\n",
      "9  ID000010      Angel   22   Los Angeles\n"
     ]
    }
   ],
   "source": [
    "import pandas as pd\n",
    "\n",
    "df = pd.read_csv('diverse_dataset_doub.csv')\n",
    "print(df)"
   ]
  },
  {
   "cell_type": "code",
   "execution_count": 2,
   "id": "7925f926",
   "metadata": {},
   "outputs": [
    {
     "name": "stdout",
     "output_type": "stream",
     "text": [
      "0    False\n",
      "1    False\n",
      "2    False\n",
      "3    False\n",
      "4     True\n",
      "5    False\n",
      "6    False\n",
      "7    False\n",
      "8    False\n",
      "9    False\n",
      "dtype: bool\n"
     ]
    }
   ],
   "source": [
    "doublons = df.duplicated()\n",
    "print(doublons)"
   ]
  },
  {
   "cell_type": "code",
   "execution_count": 7,
   "id": "6c54ae73",
   "metadata": {},
   "outputs": [
    {
     "name": "stdout",
     "output_type": "stream",
     "text": [
      "0    False\n",
      "1    False\n",
      "2    False\n",
      "3    False\n",
      "4     True\n",
      "5    False\n",
      "6    False\n",
      "7    False\n",
      "8    False\n",
      "9     True\n",
      "dtype: bool\n"
     ]
    }
   ],
   "source": [
    "homonymes_doub = df.duplicated(subset=['Prénom', 'Age', 'Ville'])\n",
    "print(homonymes_doub)"
   ]
  },
  {
   "cell_type": "code",
   "execution_count": 8,
   "id": "fbd013fd",
   "metadata": {},
   "outputs": [
    {
     "name": "stdout",
     "output_type": "stream",
     "text": [
      "2\n"
     ]
    }
   ],
   "source": [
    "homonymes_doub = df.duplicated(subset=['Prénom', 'Age', 'Ville']).sum()\n",
    "print(homonymes_doub)"
   ]
  },
  {
   "cell_type": "code",
   "execution_count": 12,
   "id": "24099822",
   "metadata": {},
   "outputs": [
    {
     "name": "stdout",
     "output_type": "stream",
     "text": [
      "Lignes avec des doublons:\n",
      "         ID Prénom  Age        Ville\n",
      "0  ID000001  Alice   24        Paris\n",
      "2  ID000003  Angel   22  Los Angeles\n",
      "4  ID000001  Alice   24        Paris\n",
      "9  ID000010  Angel   22  Los Angeles\n"
     ]
    }
   ],
   "source": [
    "homonymes_doub = df.duplicated(subset=['Prénom', 'Age', 'Ville'], keep=False)\n",
    "df_homonymes_doub = df[homonymes_doub]\n",
    "print(\"Lignes avec des doublons:\")\n",
    "print(df_homonymes_doub)"
   ]
  },
  {
   "cell_type": "code",
   "execution_count": null,
   "id": "5153a59a",
   "metadata": {},
   "outputs": [],
   "source": []
  }
 ],
 "metadata": {
  "kernelspec": {
   "display_name": "Python 3 (ipykernel)",
   "language": "python",
   "name": "python3"
  },
  "language_info": {
   "codemirror_mode": {
    "name": "ipython",
    "version": 3
   },
   "file_extension": ".py",
   "mimetype": "text/x-python",
   "name": "python",
   "nbconvert_exporter": "python",
   "pygments_lexer": "ipython3",
   "version": "3.10.9"
  }
 },
 "nbformat": 4,
 "nbformat_minor": 5
}
