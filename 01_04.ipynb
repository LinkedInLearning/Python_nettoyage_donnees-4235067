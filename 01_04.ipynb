{
 "cells": [
  {
   "cell_type": "code",
   "execution_count": 2,
   "id": "7d78cb4c",
   "metadata": {},
   "outputs": [
    {
     "name": "stdout",
     "output_type": "stream",
     "text": [
      "DataFrame original:\n",
      "         ID     Prénom  Age         Ville\n",
      "0  ID000001      Alice   24         Paris\n",
      "1  ID000002        Bob  250   Los Angeles\n",
      "2  ID000003    Mohamed   22         Dubia\n",
      "3  ID000004      David   29         Dubai\n",
      "4  ID000005    Saoirse   27         Dakar\n",
      "5    000006  Fatimatou   -5       Beijing\n",
      "6  ID000007       Fang   30         Cairo\n",
      "7  ID000008     Hassan   33         Cairo\n",
      "8   ID00009     Ingrid   25  Johannesburg\n",
      "9  ID000010   Blessing   26        Pariss\n"
     ]
    }
   ],
   "source": [
    "import pandas as pd\n",
    "\n",
    "df = pd.read_csv('diverse_dataset_erreurs.csv')\n",
    "print(\"DataFrame original:\")\n",
    "print(df)"
   ]
  },
  {
   "cell_type": "code",
   "execution_count": 3,
   "id": "c60baee9",
   "metadata": {},
   "outputs": [
    {
     "data": {
      "text/plain": [
       "461"
      ]
     },
     "execution_count": 3,
     "metadata": {},
     "output_type": "execute_result"
    }
   ],
   "source": [
    "df['Age'].sum()"
   ]
  },
  {
   "cell_type": "code",
   "execution_count": 4,
   "id": "6ec28dad",
   "metadata": {},
   "outputs": [
    {
     "name": "stdout",
     "output_type": "stream",
     "text": [
      "Valeurs aberrantes:\n",
      "         ID     Prénom  Age        Ville\n",
      "1  ID000002        Bob  250  Los Angeles\n",
      "5    000006  Fatimatou   -5      Beijing\n"
     ]
    }
   ],
   "source": [
    "valeurs_aberrantes = df[(df['Age'] < 0) | (df['Age'] > 100)]\n",
    "print(\"Valeurs aberrantes:\")\n",
    "print(valeurs_aberrantes)"
   ]
  },
  {
   "cell_type": "code",
   "execution_count": 10,
   "id": "4ab1ea7c",
   "metadata": {},
   "outputs": [
    {
     "name": "stdout",
     "output_type": "stream",
     "text": [
      "Valeurs aberrantes (IQR):\n",
      "         ID     Prénom  Age        Ville\n",
      "1  ID000002        Bob  250  Los Angeles\n",
      "5    000006  Fatimatou   -5      Beijing\n"
     ]
    }
   ],
   "source": [
    "from scipy import stats\n",
    "\n",
    "Q1 = df['Age'].quantile(0.25)\n",
    "Q3 = df['Age'].quantile(0.75)\n",
    "IQR = Q3 - Q1\n",
    "val_ab_iqr = df[(df['Age'] < (Q1 - 1.5 * IQR)) | (df['Age'] > (Q3 + 1.5 * IQR))]\n",
    "print(\"Valeurs aberrantes (IQR):\")\n",
    "print(val_ab_iqr)"
   ]
  },
  {
   "cell_type": "code",
   "execution_count": 12,
   "id": "3da952c2",
   "metadata": {},
   "outputs": [
    {
     "name": "stdout",
     "output_type": "stream",
     "text": [
      "Collecting fuzzywuzzyNote: you may need to restart the kernel to use updated packages.\n",
      "\n",
      "  Downloading fuzzywuzzy-0.18.0-py2.py3-none-any.whl (18 kB)\n",
      "Installing collected packages: fuzzywuzzy\n",
      "Successfully installed fuzzywuzzy-0.18.0\n"
     ]
    }
   ],
   "source": [
    "pip install fuzzywuzzy"
   ]
  },
  {
   "cell_type": "code",
   "execution_count": 14,
   "id": "881d8b7b",
   "metadata": {},
   "outputs": [
    {
     "name": "stdout",
     "output_type": "stream",
     "text": [
      "Fautes d'orthographe détectées:\n",
      "2     Dubia\n",
      "9    Pariss\n",
      "Name: Ville, dtype: object\n"
     ]
    }
   ],
   "source": [
    "from fuzzywuzzy import process\n",
    "\n",
    "liste_villes = ['Paris', 'Los Angeles', 'Dubai', 'Dakar', 'Beijing', 'Cairo', 'Johannesburg']\n",
    "\n",
    "def find_typo(ville):\n",
    "    match = process.extractOne(ville, liste_villes)\n",
    "    if match[1] < 100:  \n",
    "        return ville\n",
    "    return None\n",
    "\n",
    "fautes = df['Ville'].apply(find_typo).dropna()\n",
    "print(\"Fautes d'orthographe détectées:\")\n",
    "print(fautes)"
   ]
  },
  {
   "cell_type": "code",
   "execution_count": null,
   "id": "94aa9168",
   "metadata": {},
   "outputs": [],
   "source": []
  }
 ],
 "metadata": {
  "kernelspec": {
   "display_name": "Python 3 (ipykernel)",
   "language": "python",
   "name": "python3"
  },
  "language_info": {
   "codemirror_mode": {
    "name": "ipython",
    "version": 3
   },
   "file_extension": ".py",
   "mimetype": "text/x-python",
   "name": "python",
   "nbconvert_exporter": "python",
   "pygments_lexer": "ipython3",
   "version": "3.10.9"
  }
 },
 "nbformat": 4,
 "nbformat_minor": 5
}
