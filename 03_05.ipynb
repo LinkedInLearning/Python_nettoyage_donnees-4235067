{
 "cells": [
  {
   "cell_type": "code",
   "execution_count": 1,
   "id": "b4f947cd-424f-48ac-ac40-1fd8935870c0",
   "metadata": {},
   "outputs": [],
   "source": [
    "import pandas as pd\n",
    "\n",
    "df_d = pd.read_csv('défi1.csv')"
   ]
  },
  {
   "cell_type": "code",
   "execution_count": 3,
   "id": "014ef5e5-9202-4b05-a789-2beca9d8fbfe",
   "metadata": {},
   "outputs": [
    {
     "name": "stdout",
     "output_type": "stream",
     "text": [
      "DataFrame pour défi:\n",
      "         ID     Prénom  Age         Ville\n",
      "0   ID00123      Alice   24         Paris\n",
      "1   ID00124        Bob   25   Los Angeles\n",
      "2   ID00125    Charlie   22         Dubai\n",
      "3     00126      David   29          Duba\n",
      "4   ID00127    Saoirse   28        Dublin\n",
      "5   ID00128  Fatimatou   27         Dakar\n",
      "6   ID00129       Fang   30       Beijing\n",
      "7   ID00130     Hassan   32         Cairo\n",
      "8   ID00131     Ingrid   25   Los Angeles\n",
      "9   ID00132   Blessing  120  Johannesburg\n",
      "10   ID0123     Alicee   24         Paris\n"
     ]
    }
   ],
   "source": [
    "print(\"DataFrame pour défi:\")\n",
    "print(df_d)"
   ]
  },
  {
   "cell_type": "code",
   "execution_count": null,
   "id": "a3380511-d3de-4c0f-aa91-dcb071666dcb",
   "metadata": {},
   "outputs": [],
   "source": []
  }
 ],
 "metadata": {
  "kernelspec": {
   "display_name": "Python 3 (ipykernel)",
   "language": "python",
   "name": "python3"
  },
  "language_info": {
   "codemirror_mode": {
    "name": "ipython",
    "version": 3
   },
   "file_extension": ".py",
   "mimetype": "text/x-python",
   "name": "python",
   "nbconvert_exporter": "python",
   "pygments_lexer": "ipython3",
   "version": "3.12.4"
  }
 },
 "nbformat": 4,
 "nbformat_minor": 5
}
