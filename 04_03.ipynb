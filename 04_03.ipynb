{
 "cells": [
  {
   "cell_type": "code",
   "execution_count": 1,
   "id": "df5a538d",
   "metadata": {},
   "outputs": [
    {
     "name": "stdout",
     "output_type": "stream",
     "text": [
      "DataFrame avec des numéros erronés:\n",
      "      ID     Prénom  Age         Ville              NumCarte\n",
      "0  ID001      Alice   24         Paris   1234 5678 1234 5678\n",
      "1  ID002        Bob   35   Los Angeles   1234 1234 5678 5678\n",
      "2  ID003    Charlie   22      New York    1234 678 1234 5678\n",
      "3  ID004      David   29         Dubai    1234 5678 234 5678\n",
      "4  ID005    Saoirse   33        Dublin  1234 5678 1234 56788\n",
      "5  ID006  Fatimatou   27         Dakar   1234 1234 1234 5678\n",
      "6  ID007       Fang   30       Beijing   1234 1234 1234 1234\n",
      "7  ID008     Hassan   28         Cairo   5678 5678 1234 5678\n",
      "8  ID009     Ingrid   25         Tokyo   5678 5678 5678 5678\n",
      "9  ID010   Blessing   26  Johannesburg     1234 568 234 5678\n"
     ]
    }
   ],
   "source": [
    "import pandas as pd\n",
    "\n",
    "df_look = pd.read_csv('data_look.csv')\n",
    "\n",
    "print(\"DataFrame avec des numéros erronés:\")\n",
    "print(df_look)"
   ]
  },
  {
   "cell_type": "code",
   "execution_count": 28,
   "id": "72441f46",
   "metadata": {},
   "outputs": [
    {
     "name": "stdout",
     "output_type": "stream",
     "text": [
      "      ID    Prénom  Age         Ville              NumCarte  NumCarteValide\n",
      "2  ID003   Charlie   22      New York    1234 678 1234 5678           False\n",
      "3  ID004     David   29         Dubai    1234 5678 234 5678           False\n",
      "4  ID005   Saoirse   33        Dublin  1234 5678 1234 56788           False\n",
      "9  ID010  Blessing   26  Johannesburg     1234 568 234 5678           False\n"
     ]
    }
   ],
   "source": [
    "import re\n",
    "\n",
    "pattern = r'(?<!\\d)(\\d{4}\\s\\d{4}\\s\\d{4}\\s\\d{4})(?!\\d)'\n",
    "\n",
    "def check_num_carte_format(NumCarte):\n",
    "    match = re.match(pattern, NumCarte)\n",
    "    return bool(match)\n",
    "\n",
    "df_look['NumCarteValide'] = df_look['NumCarte'].apply(check_num_carte_format)\n",
    "invalides_num = df_look[df_look['NumCarteValide'] == False]\n",
    "\n",
    "print(invalides_num)"
   ]
  },
  {
   "cell_type": "code",
   "execution_count": null,
   "id": "4a63d84d",
   "metadata": {},
   "outputs": [],
   "source": []
  }
 ],
 "metadata": {
  "kernelspec": {
   "display_name": "Python 3 (ipykernel)",
   "language": "python",
   "name": "python3"
  },
  "language_info": {
   "codemirror_mode": {
    "name": "ipython",
    "version": 3
   },
   "file_extension": ".py",
   "mimetype": "text/x-python",
   "name": "python",
   "nbconvert_exporter": "python",
   "pygments_lexer": "ipython3",
   "version": "3.12.4"
  }
 },
 "nbformat": 4,
 "nbformat_minor": 5
}
