{
 "cells": [
  {
   "cell_type": "code",
   "execution_count": 185,
   "id": "6cb848fa",
   "metadata": {},
   "outputs": [
    {
     "name": "stdout",
     "output_type": "stream",
     "text": [
      "Résultat de re.split : ['Alice', ' Marouane', ' Charlie', ' David']\n"
     ]
    }
   ],
   "source": [
    "import re\n",
    "\n",
    "text = \"Alice; Marouane, Charlie: David\"\n",
    "pattern = r\"[;,:]\"\n",
    "split_text = re.split(pattern, text)\n",
    "print(\"Résultat de re.split :\", split_text)"
   ]
  },
  {
   "cell_type": "code",
   "execution_count": 186,
   "id": "50722bbf",
   "metadata": {},
   "outputs": [
    {
     "name": "stdout",
     "output_type": "stream",
     "text": [
      "Résultat de re.findall avec \\s : ['Marouane', 'Chamakh', '29']\n"
     ]
    }
   ],
   "source": [
    "text = \"Marouane Chamakh 29\"\n",
    "pattern = r\"\\s\"\n",
    "words = re.split(pattern, text)\n",
    "print(\"Résultat de re.findall avec \\\\s :\", words)"
   ]
  },
  {
   "cell_type": "code",
   "execution_count": 187,
   "id": "0e99ac63",
   "metadata": {},
   "outputs": [
    {
     "name": "stdout",
     "output_type": "stream",
     "text": [
      "Résultat de re.findall avec \\s+ : ['Marouane', 'Chamakh', '29']\n"
     ]
    }
   ],
   "source": [
    "text = \"Marouane Chamakh 29\"\n",
    "pattern = r\"\\s+\"\n",
    "words = re.split(pattern, text)\n",
    "print(\"Résultat de re.findall avec \\\\s+ :\", words)"
   ]
  },
  {
   "cell_type": "code",
   "execution_count": 188,
   "id": "e6dbc942",
   "metadata": {},
   "outputs": [
    {
     "name": "stdout",
     "output_type": "stream",
     "text": [
      "Résultat de re.findall avec \\w+ : ['M', 'a', 'r', 'o', 'u', 'a', 'n', 'e', 'C', 'h', 'a', 'm', 'a', 'k', 'h', '2', '9']\n"
     ]
    }
   ],
   "source": [
    "text = \"Marouane Chamakh 29\"\n",
    "pattern = r\"\\w\"\n",
    "words = re.findall(pattern, text)\n",
    "print(\"Résultat de re.findall avec \\\\w+ :\", words)"
   ]
  },
  {
   "cell_type": "code",
   "execution_count": 189,
   "id": "c0f87da9",
   "metadata": {},
   "outputs": [
    {
     "name": "stdout",
     "output_type": "stream",
     "text": [
      "Résultat de re.findall avec \\w : ['Marouane', 'Chamakh', '29']\n"
     ]
    }
   ],
   "source": [
    "text = \"Marouane Chamakh 29\"\n",
    "pattern = r\"\\w+\"\n",
    "words = re.findall(pattern, text)\n",
    "print(\"Résultat de re.findall avec \\\\w :\", words)"
   ]
  },
  {
   "cell_type": "code",
   "execution_count": 190,
   "id": "520c2a3b",
   "metadata": {},
   "outputs": [
    {
     "name": "stdout",
     "output_type": "stream",
     "text": [
      "Noms trouvés : ['A', 'F', 'C']\n"
     ]
    }
   ],
   "source": [
    "text = \"Alice123 Fang456 Caroline789\"\n",
    "pattern = r\"[A-Z]+\"\n",
    "noms = re.findall(pattern, text)\n",
    "print(\"Noms trouvés :\", noms)"
   ]
  },
  {
   "cell_type": "code",
   "execution_count": 191,
   "id": "eaa10172",
   "metadata": {},
   "outputs": [
    {
     "name": "stdout",
     "output_type": "stream",
     "text": [
      "Noms trouvés : ['ice', 'ang', 'aroline']\n"
     ]
    }
   ],
   "source": [
    "text = \"ALice123 Fang456 Caroline789\"\n",
    "pattern = r\"[a-z]+\"\n",
    "noms = re.findall(pattern, text)\n",
    "print(\"Noms trouvés :\", noms)"
   ]
  },
  {
   "cell_type": "code",
   "execution_count": 192,
   "id": "6dd52489",
   "metadata": {},
   "outputs": [
    {
     "name": "stdout",
     "output_type": "stream",
     "text": [
      "Noms trouvés : ['Alice', 'Fang', 'Caroline']\n"
     ]
    }
   ],
   "source": [
    "text = \"Alice123 Fang456 Caroline789\"\n",
    "pattern = r\"[A-Za-z]+\"\n",
    "noms = re.findall(pattern, text)\n",
    "print(\"Noms trouvés :\", noms)"
   ]
  },
  {
   "cell_type": "code",
   "execution_count": 193,
   "id": "9d82ad7d",
   "metadata": {},
   "outputs": [
    {
     "name": "stdout",
     "output_type": "stream",
     "text": [
      "Nombres trouvés : ['1', '2', '3', '4', '5', '6', '7', '8', '9']\n"
     ]
    }
   ],
   "source": [
    "pattern = r\"[0-9]\"\n",
    "nombres = re.findall(pattern, text)\n",
    "print(\"Nombres trouvés :\", nombres)"
   ]
  },
  {
   "cell_type": "code",
   "execution_count": 194,
   "id": "e4ff72a3",
   "metadata": {},
   "outputs": [
    {
     "name": "stdout",
     "output_type": "stream",
     "text": [
      "Nombres trouvés : ['123', '456', '789']\n"
     ]
    }
   ],
   "source": [
    "pattern = r\"[0-9]+\"\n",
    "nombres = re.findall(pattern, text)\n",
    "print(\"Nombres trouvés :\", nombres)"
   ]
  },
  {
   "cell_type": "code",
   "execution_count": 195,
   "id": "cb35a6f6",
   "metadata": {},
   "outputs": [
    {
     "name": "stdout",
     "output_type": "stream",
     "text": [
      "Noms et nombres trouvés : ['Alice123', 'Fang456', 'Caroline789']\n"
     ]
    }
   ],
   "source": [
    "text = \"Alice123 Fang456 Caroline789\"\n",
    "pattern = r\"[A-Za-z0-9]+\"\n",
    "noms_nombres = re.findall(pattern, text)\n",
    "print(\"Noms et nombres trouvés :\", noms_nombres)"
   ]
  },
  {
   "cell_type": "code",
   "execution_count": 209,
   "id": "9260fd71",
   "metadata": {},
   "outputs": [
    {
     "name": "stdout",
     "output_type": "stream",
     "text": [
      "Texte 1 corrigé : Ville: Paris \n",
      "Texte 2 corrigé : Ville: Paris \n",
      "Texte 3 corrigé : Ville: Paris\n"
     ]
    }
   ],
   "source": [
    "text_1 = \"Ville: Pari\"\n",
    "text_2 = \"Ville: Pariss\"\n",
    "text_3 = \"Ville: Barise\"\n",
    "pattern_erreurs = r\"Pariss|Pari|Barise\"\n",
    "corr_text_1 = re.sub(pattern_erreurs, \"Paris\", text_1)\n",
    "corr_text_2 = re.sub(pattern_erreurs, \"Paris\", text_2)\n",
    "corr_text_3 = re.sub(pattern_erreurs, \"Paris\", text_3)\n",
    "print(\"Texte 1 corrigé :\", corr_text_1, \"\\nTexte 2 corrigé :\", corr_text_2, \"\\nTexte 3 corrigé :\", corr_text_3)"
   ]
  }
 ],
 "metadata": {
  "kernelspec": {
   "display_name": "Python 3 (ipykernel)",
   "language": "python",
   "name": "python3"
  },
  "language_info": {
   "codemirror_mode": {
    "name": "ipython",
    "version": 3
   },
   "file_extension": ".py",
   "mimetype": "text/x-python",
   "name": "python",
   "nbconvert_exporter": "python",
   "pygments_lexer": "ipython3",
   "version": "3.10.9"
  }
 },
 "nbformat": 4,
 "nbformat_minor": 5
}
