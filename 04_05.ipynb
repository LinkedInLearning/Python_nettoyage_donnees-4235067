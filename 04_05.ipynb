{
 "cells": [
  {
   "cell_type": "code",
   "execution_count": 5,
   "id": "8588e9ad",
   "metadata": {},
   "outputs": [
    {
     "name": "stdout",
     "output_type": "stream",
     "text": [
      "DataFrame avec les données pour le défi:\n",
      "                                              RawData\n",
      "0   Alice, 24, Berlin, 1234567890123Bob, , Los Ang...\n",
      "1                             David, 29, Dubai, 12345\n",
      "2                    Saoirse, , Dublin, 0987654321123\n",
      "3                 Fatimatou, 27, Dakar, 5678901234567\n",
      "4                       Fang, , Beijing, 098765432123\n",
      "5                    Hassan, 28, Cairo, 2233445566778\n",
      "6                    Ingrid, 25, Tokyo, 3344556677889\n",
      "7           Blessing, 26, Johannesburg, 4455667788990\n",
      "8                  Pierre, 30, Berllin, 5566778899001\n",
      "9                         Jean, , Berl, 6677889900123\n",
      "10                    Marie, 31, Berln, 7788990011234\n"
     ]
    }
   ],
   "source": [
    "import pandas as pd\n",
    "\n",
    "df = pd.read_csv('data_challenge.csv')\n",
    "\n",
    "print(\"DataFrame avec les données pour le défi:\")\n",
    "print(df)"
   ]
  },
  {
   "cell_type": "code",
   "execution_count": null,
   "id": "4bb49a24",
   "metadata": {},
   "outputs": [],
   "source": []
  }
 ],
 "metadata": {
  "kernelspec": {
   "display_name": "Python 3 (ipykernel)",
   "language": "python",
   "name": "python3"
  },
  "language_info": {
   "codemirror_mode": {
    "name": "ipython",
    "version": 3
   },
   "file_extension": ".py",
   "mimetype": "text/x-python",
   "name": "python",
   "nbconvert_exporter": "python",
   "pygments_lexer": "ipython3",
   "version": "3.10.9"
  }
 },
 "nbformat": 4,
 "nbformat_minor": 5
}
